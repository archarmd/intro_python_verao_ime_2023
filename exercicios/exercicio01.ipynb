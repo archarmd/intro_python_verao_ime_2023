{
 "cells": [
  {
   "cell_type": "markdown",
   "metadata": {
    "collapsed": true,
    "pycharm": {
     "name": "#%% md\n"
    }
   },
   "source": [
    "## Exercícios - Aula 01"
   ]
  },
  {
   "cell_type": "markdown",
   "metadata": {
    "collapsed": false,
    "pycharm": {
     "name": "#%% md\n"
    }
   },
   "source": [
    "1) Escolha um número entre 1 e 10 e armazene ele numa variável chamada *segredo*. Escolha outro número entre 1 e 10 novamente e salve ele numa variável chamada *chute*. Depois, escreva testes condicionais usando *if*, *else* e *elif* para exibir a mensagem \"muito menor\" se *chute* é menor do que *segredo*, \"muito maior\" se *chute* é maior do que *segredo* e \"na mosca\" se *chute* for igual à *segredo*.\n",
    "\n",
    "2) Escreva uma cadeia de instrucões *if*-*elif*-*else* que determine o estágio da vida de uma pessoa. Defina um valor para a variável *idade* e então:\n",
    "- Se a pessoa tiver menos de 2 anos de idade, mostre uma mensagem dizendo que ela ainda é um bebê.\n",
    "- Se a pessoa tiver pelo menos 2 anos, mas menos de 4, mostre uma mensagem dizendo que ela é uma crianca.\n",
    "- Se a pessoa tiver pelo menos 4 anos, mas menos de 13, mostre uma mensagem dizendo que ela é um(a) goroto(a).\n",
    "- Se a pessoa tiver pelo menos 13 anos, mas menos de 20, mostre uma mensagem dizendo que ela é um(a) adolescente.\n",
    "- Se a pessoa tiver pelo menos 20 anos, mas menos de 65, mostre uma mensagem dizendo que ela é um(a) adulto(a).\n",
    "- Se a pessoa tiver 65 anos ou mais, mostre uma mensagem dizendo que ela é uma pessoa idosa.\n",
    "\n",
    "3) Crie uma lista com cinco ou mais nomes de usuários, incluindo o nome \"admin\". Suponha que você esteja escrevendo um código que exibirá uma saudacão a cada usuário depois que eles fizerem login em um site. Percorra a lista com um laco e mostre uma saudacão para cada usuário:\n",
    "- Se o nome do usuário for \"admin\", mostre uma saudacão especial, por exemplo, \"Olá admin, gostaria de ver o relatório de status?\"\n",
    "- Caso contrário, mostre a saudacão genérica, como \"Olá José, obrigado por fazer login novamente\".\n",
    "\n",
    "4) A partir do exercício anterior, modifique o código criado para acrescentar um teste if que verifica se a lista de usuarios está vazia.\n",
    "- Se a lista de usuários estiver vazia, mostre a mensagem \"Precisamos encontrar alguns usuários!\". Remova todos os nomes de usuários da lista e certifique-se de que essa mensagem aparecerá.\n",
    "\n",
    "5) Crie um programa que simule o modo como os sites garantem que todos tenham um nome de usuário único.\n",
    "- Crie uma lista chamada *current_users* com cinco ou mais nomes de usuários\n",
    "- Crie uma list chamada *new_users* com cinco nomes de usuários. Garanta que dois dos novos usuários também estejam na lista *current_users*\n",
    "- Percorra a lista *new_users* com um laco para ver se cada novo nome de usuário já foi usado. Em caso afirmativo, mostre uma mensagem afirmando que a pessoa deverá fornecer um novo nome. Se um usuário não foi usado, apresente uma mensagem dizendo que o nome do usuário está disponível.\n",
    "- Certifique-se de que sua comparacão não levará em conta as diferencas entre letras maiúsculas e minúsculas. Se \"Pedro\" foi usado, \"PEDRO\" não deverá ser aceito.\n",
    "\n",
    "6) Números ordinais indicam sua posicão em uma lista, por exemplo, 1st, 2nd, em inglês. A maioria dos números ordinais nessa língua termina com th, exceto, 1, 2 e 3.\n",
    "- Armazene os números de 1 a 9 em uma lista.\n",
    "- Pecorra essa lista com um laco.\n",
    "- Use uma cadeia de instrucões *if*-*elif*-*else* que exiba a terminacão apropriada para cada número ordinal. Sua saída deverá conter \"1st 2nd 3rd 4th 5th 6th 7th 8th 9th\" e cada resultado deve estar em uma linha separada\n"
   ]
  },
  {
   "attachments": {},
   "cell_type": "markdown",
   "metadata": {},
   "source": [
    "Archavir Mário Donelian"
   ]
  },
  {
   "cell_type": "code",
   "execution_count": 15,
   "metadata": {},
   "outputs": [
    {
     "name": "stdout",
     "output_type": "stream",
     "text": [
      "muito maior\n"
     ]
    }
   ],
   "source": [
    "# questão 1\n",
    "\n",
    "segredo=9\n",
    "chute=10\n",
    "if chute < segredo:\n",
    "    print (\"muito menor\")\n",
    "elif chute > segredo:\n",
    "    print(\"muito maior\")\n",
    "else:\n",
    "    print(\"na mosca\")      "
   ]
  },
  {
   "cell_type": "code",
   "execution_count": 34,
   "metadata": {},
   "outputs": [
    {
     "name": "stdout",
     "output_type": "stream",
     "text": [
      "Ela é um adulto.\n"
     ]
    }
   ],
   "source": [
    "# questão 2\n",
    "\n",
    "idade = 32\n",
    "\n",
    "if idade < 2:\n",
    "    print(\"Ela ainda é um bebê.\")\n",
    "elif idade == 2 or idade < 4:    \n",
    "    print(\"Ela é uma criança.\") \n",
    "elif idade == 4 or idade < 13:\n",
    "    print(\"Ela é um(a) garoto(a).\")\n",
    "elif idade == 13 or idade < 20:\n",
    "     print( \"Ela é um(a) adolescente.\")\n",
    "elif idade == 20 or idade < 65:\n",
    "    print(\"Ela é um adulto.\")\n",
    "else:\n",
    "    print(\"Ela é uma pessoa idosa.\")\n",
    "\n"
   ]
  },
  {
   "cell_type": "code",
   "execution_count": 58,
   "metadata": {},
   "outputs": [
    {
     "name": "stdout",
     "output_type": "stream",
     "text": [
      "Olá Paulo, obrigado por fazer login noivamente!\n",
      "Olá Marcus, obrigado por fazer login noivamente!\n",
      "Olá admin, gostaria de ver o relatório de status?\n",
      "Olá Roberta, obrigado por fazer login noivamente!\n",
      "Olá Mara, obrigado por fazer login noivamente!\n"
     ]
    }
   ],
   "source": [
    "# questão 3\n",
    "\n",
    "usuário = [\"Paulo\", \"Marcus\", \"admin\", \"Roberta\", \"Mara\" ]\n",
    "\n",
    "for pessoa in usuário:\n",
    "    if pessoa == \"admin\":\n",
    "        print(\"Olá admin, gostaria de ver o relatório de status?\")\n",
    "    else: \n",
    "        print(\"Olá {}, obrigado por fazer login noivamente!\". format(pessoa))"
   ]
  },
  {
   "cell_type": "code",
   "execution_count": 73,
   "metadata": {},
   "outputs": [
    {
     "name": "stdout",
     "output_type": "stream",
     "text": [
      "Precisamos encontrar alguns usuários.\n"
     ]
    }
   ],
   "source": [
    "# questão 4\n",
    "\n",
    "usuário = [ ]\n",
    "\n",
    "if pessoa not in usuário:\n",
    "     print(\"Precisamos encontrar alguns usuários.\") \n",
    "else:\n",
    "    for pessoa in usuário:  \n",
    "        if pessoa == \"admin\":\n",
    "             print(\"Olá admin, gostaria de ver o relatório de status?\")     \n",
    "        else: \n",
    "             print(\"Olá {}, obrigado por fazer login noivamente!\". format(pessoa))\n",
    "    \n",
    "               "
   ]
  },
  {
   "cell_type": "code",
   "execution_count": 14,
   "metadata": {},
   "outputs": [
    {
     "ename": "SyntaxError",
     "evalue": "invalid syntax (728677757.py, line 7)",
     "output_type": "error",
     "traceback": [
      "\u001b[0;36m  Cell \u001b[0;32mIn[14], line 7\u001b[0;36m\u001b[0m\n\u001b[0;31m    if n in new_users[] == n in current_user[]:\u001b[0m\n\u001b[0m                      ^\u001b[0m\n\u001b[0;31mSyntaxError\u001b[0m\u001b[0;31m:\u001b[0m invalid syntax\n"
     ]
    }
   ],
   "source": [
    "# questão 5\n",
    "\n",
    "current_user = [\"João\", \"Marcelo\", \"Pedro\", \"henrique\", \"Roberta\"]\n",
    "new_users = [\"ROBERTA\", \"Henrique\", \"Pedro\", \"Cibele\", \"MARCELO\"]\n",
    "\n",
    "for n in new_users:\n",
    "    if n in new_users[] == n in current_user[]:\n",
    "        print(\"Deve fornecer um novo nome\")\n",
    "    else:\n",
    "        print(\"O nome de usuário está disponível\")    "
   ]
  },
  {
   "cell_type": "code",
   "execution_count": 4,
   "metadata": {},
   "outputs": [
    {
     "name": "stdout",
     "output_type": "stream",
     "text": [
      "1st\n",
      "2nd\n",
      "3th\n",
      "4th\n",
      "5th\n",
      "6th\n",
      "7th\n",
      "8th\n",
      "9th\n"
     ]
    }
   ],
   "source": [
    "# questão 6\n",
    "\n",
    "numeros = [1,2,3,4,5,6,7,8,9]\n",
    "for n in numeros:\n",
    "    if n==1:\n",
    "        print(\"1st\")\n",
    "    elif n==2:\n",
    "        print(\"2nd\")\n",
    "    else: \n",
    "        print(\"{}th\".format(n))       \n",
    "      \n"
   ]
  }
 ],
 "metadata": {
  "kernelspec": {
   "display_name": "Python 3",
   "language": "python",
   "name": "python3"
  },
  "language_info": {
   "codemirror_mode": {
    "name": "ipython",
    "version": 3
   },
   "file_extension": ".py",
   "mimetype": "text/x-python",
   "name": "python",
   "nbconvert_exporter": "python",
   "pygments_lexer": "ipython3",
   "version": "3.10.4"
  },
  "vscode": {
   "interpreter": {
    "hash": "3ad933181bd8a04b432d3370b9dc3b0662ad032c4dfaa4e4f1596c548f763858"
   }
  }
 },
 "nbformat": 4,
 "nbformat_minor": 0
}
